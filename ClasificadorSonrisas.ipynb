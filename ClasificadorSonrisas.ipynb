{
 "cells": [
  {
   "cell_type": "markdown",
   "metadata": {},
   "source": [
    "# Clasificador de sonrisa con Tensorflow - Keras"
   ]
  },
  {
   "cell_type": "markdown",
   "metadata": {},
   "source": [
    "Requisitos:\n",
    "<ul>\n",
    "<li>Tensorflow 2.0</li>\n",
    "<li>Numpy</li>\n",
    "<li>OpenCv</li>\n",
    "</ul>"
   ]
  },
  {
   "cell_type": "markdown",
   "metadata": {},
   "source": [
    "El siguiente notebook es un ejemplo de la utilización de una red convolucional con keras utilizando los mismos datos del clasificador de sonrisa."
   ]
  },
  {
   "cell_type": "markdown",
   "metadata": {},
   "source": [
    "Los datos utilizados se encuentran en la siguiente ruta: \n",
    "<a href=\"https://github.com/abatista667/RedNeuronalTFM/tree/master/datos\">https://github.com/abatista667/RedNeuronalTFM/tree/master/datos</a>"
   ]
  },
  {
   "cell_type": "code",
   "execution_count": 1,
   "metadata": {},
   "outputs": [],
   "source": [
    "import os\n",
    "#os.environ[\"CUDA_VISIBLE_DEVICES\"]=\"-1\" \n",
    "import tensorflow as tf\n",
    "import numpy as np\n",
    "from os import walk\n",
    "import cv2"
   ]
  },
  {
   "cell_type": "markdown",
   "metadata": {},
   "source": [
    "Esta función permite cargar un conjunto de imágenes y serán clasificada con el parámetro \"y\""
   ]
  },
  {
   "cell_type": "code",
   "execution_count": 2,
   "metadata": {},
   "outputs": [],
   "source": [
    "def getData(path, y, size =(100,100)):\n",
    "    X =[]\n",
    "    Y =[]\n",
    "    for (dirpath, dirnames, filenames) in walk(path):\n",
    "        for file in filenames:\n",
    "            img = cv2.imread(path + file)\n",
    "            img = cv2.resize(img, size)\n",
    "            X.append(img)\n",
    "            Y.append(y)\n",
    "    X = np.array(X, dtype=float)\n",
    "    Y = np.array(Y, dtype=float)\n",
    "    return X, Y"
   ]
  },
  {
   "cell_type": "markdown",
   "metadata": {},
   "source": [
    "Dada una ruta (path) esta función cargara todas las imágenes dentro de las sub carpetas 0 y 1, y devolverá los arreglos \"X\",\"Y\" correspondientes."
   ]
  },
  {
   "cell_type": "code",
   "execution_count": 4,
   "metadata": {},
   "outputs": [],
   "source": [
    "def getBinaryDataSet(path):\n",
    "    size = (100,100)\n",
    "    X =[]\n",
    "    Y =[]\n",
    "    data = getData(path+\"0\\\\\", [0], size)\n",
    "    X = data[0]\n",
    "    Y = data[1]\n",
    "    data = getData(path+\"1\\\\\", [1], size)\n",
    "    X = np.append(X, data[0], axis=0)\n",
    "    Y = np.append(Y, data[1], axis=0)\n",
    "    \n",
    "    return X, Y"
   ]
  },
  {
   "cell_type": "code",
   "execution_count": 3,
   "metadata": {},
   "outputs": [],
   "source": [
    "#modificar esta ruta\n",
    "traininigPath = \"C:\\\\Users\\\\ariel\\\\OneDrive\\\\Documentos\\\\dataset\\\\sonrisas\\\\train\\\\\""
   ]
  },
  {
   "cell_type": "markdown",
   "metadata": {},
   "source": [
    "Cargar el dataset de entrenamiento."
   ]
  },
  {
   "cell_type": "code",
   "execution_count": 5,
   "metadata": {},
   "outputs": [],
   "source": [
    "xTrain, yTrain = getBinaryDataSet(traininigPath)"
   ]
  },
  {
   "cell_type": "code",
   "execution_count": 6,
   "metadata": {},
   "outputs": [
    {
     "data": {
      "text/plain": [
       "(400, 100, 100, 3)"
      ]
     },
     "execution_count": 6,
     "metadata": {},
     "output_type": "execute_result"
    }
   ],
   "source": [
    "xTrain.shape"
   ]
  },
  {
   "cell_type": "code",
   "execution_count": 7,
   "metadata": {},
   "outputs": [
    {
     "data": {
      "text/plain": [
       "(400, 1)"
      ]
     },
     "execution_count": 7,
     "metadata": {},
     "output_type": "execute_result"
    }
   ],
   "source": [
    "yTrain.shape"
   ]
  },
  {
   "cell_type": "code",
   "execution_count": 8,
   "metadata": {},
   "outputs": [],
   "source": [
    "#modificar esta ruta\n",
    "testPath = \"C:\\\\Users\\\\ariel\\\\OneDrive\\\\Documentos\\\\dataset\\\\sonrisas\\\\test\\\\\""
   ]
  },
  {
   "cell_type": "markdown",
   "metadata": {},
   "source": [
    "Cargar el data set de prueba.\n"
   ]
  },
  {
   "cell_type": "code",
   "execution_count": 9,
   "metadata": {},
   "outputs": [],
   "source": [
    "xTest, yTest = getBinaryDataSet(testPath)"
   ]
  },
  {
   "cell_type": "markdown",
   "metadata": {},
   "source": [
    "Definición del modelo de red convolucional, entrenamiento y evaluación"
   ]
  },
  {
   "cell_type": "code",
   "execution_count": 22,
   "metadata": {},
   "outputs": [],
   "source": [
    "redConvolucional = tf.keras.models.Sequential([\n",
    "    tf.keras.layers.Conv2D(64, (3, 3), activation=\"relu\"),\n",
    "    tf.keras.layers.MaxPooling2D(pool_size=(2, 2)),\n",
    "    tf.keras.layers.Flatten(),\n",
    "    tf.keras.layers.Dense(256, activation=tf.nn.relu),\n",
    "    tf.keras.layers.Dropout(0.1),\n",
    "    tf.keras.layers.Dense(1, activation='sigmoid')\n",
    "])\n",
    "redConvolucional.compile(optimizer='adam',\n",
    "              loss='binary_crossentropy',\n",
    "              metrics=['accuracy'])"
   ]
  },
  {
   "cell_type": "code",
   "execution_count": 23,
   "metadata": {},
   "outputs": [
    {
     "name": "stdout",
     "output_type": "stream",
     "text": [
      "Train on 400 samples\n",
      "Epoch 1/20\n",
      "400/400 [==============================] - 1s 2ms/sample - loss: 1233.3805 - accuracy: 0.5100\n",
      "Epoch 2/20\n",
      "400/400 [==============================] - 1s 1ms/sample - loss: 102.3498 - accuracy: 0.46250s - loss: 121.4510 - accuracy: 0.\n",
      "Epoch 3/20\n",
      "400/400 [==============================] - 1s 1ms/sample - loss: 33.2330 - accuracy: 0.5625\n",
      "Epoch 4/20\n",
      "400/400 [==============================] - 1s 1ms/sample - loss: 9.9800 - accuracy: 0.7250\n",
      "Epoch 5/20\n",
      "400/400 [==============================] - 1s 1ms/sample - loss: 4.6737 - accuracy: 0.7675\n",
      "Epoch 6/20\n",
      "400/400 [==============================] - 1s 1ms/sample - loss: 0.7928 - accuracy: 0.9200\n",
      "Epoch 7/20\n",
      "400/400 [==============================] - 1s 1ms/sample - loss: 0.2299 - accuracy: 0.9550\n",
      "Epoch 8/20\n",
      "400/400 [==============================] - 1s 1ms/sample - loss: 0.1679 - accuracy: 0.9700\n",
      "Epoch 9/20\n",
      "400/400 [==============================] - 1s 1ms/sample - loss: 0.0700 - accuracy: 0.9775\n",
      "Epoch 10/20\n",
      "400/400 [==============================] - 1s 1ms/sample - loss: 0.0338 - accuracy: 0.9925\n",
      "Epoch 11/20\n",
      "400/400 [==============================] - 1s 1ms/sample - loss: 0.0061 - accuracy: 1.0000\n",
      "Epoch 12/20\n",
      "400/400 [==============================] - 1s 1ms/sample - loss: 0.0161 - accuracy: 0.9900\n",
      "Epoch 13/20\n",
      "400/400 [==============================] - 1s 1ms/sample - loss: 0.0144 - accuracy: 0.9925\n",
      "Epoch 14/20\n",
      "400/400 [==============================] - 1s 1ms/sample - loss: 0.0142 - accuracy: 0.9950\n",
      "Epoch 15/20\n",
      "400/400 [==============================] - 1s 1ms/sample - loss: 0.0066 - accuracy: 0.9975\n",
      "Epoch 16/20\n",
      "400/400 [==============================] - 1s 1ms/sample - loss: 0.0037 - accuracy: 1.0000\n",
      "Epoch 17/20\n",
      "400/400 [==============================] - 1s 1ms/sample - loss: 0.0041 - accuracy: 0.9975\n",
      "Epoch 18/20\n",
      "400/400 [==============================] - 1s 1ms/sample - loss: 0.0045 - accuracy: 0.9975\n",
      "Epoch 19/20\n",
      "400/400 [==============================] - 1s 1ms/sample - loss: 0.0025 - accuracy: 1.0000\n",
      "Epoch 20/20\n",
      "400/400 [==============================] - 1s 1ms/sample - loss: 0.0014 - accuracy: 1.0000\n"
     ]
    },
    {
     "data": {
      "text/plain": [
       "<tensorflow.python.keras.callbacks.History at 0x1da1d85ca88>"
      ]
     },
     "execution_count": 23,
     "metadata": {},
     "output_type": "execute_result"
    }
   ],
   "source": [
    "redConvolucional.fit(xTrain, yTrain, epochs=20)"
   ]
  },
  {
   "cell_type": "code",
   "execution_count": 24,
   "metadata": {},
   "outputs": [
    {
     "name": "stdout",
     "output_type": "stream",
     "text": [
      "82/82 [==============================] - 0s 1ms/sample - loss: 0.6293 - accuracy: 0.8780\n"
     ]
    },
    {
     "data": {
      "text/plain": [
       "[0.6292555070504909, 0.8780488]"
      ]
     },
     "execution_count": 24,
     "metadata": {},
     "output_type": "execute_result"
    }
   ],
   "source": [
    "redConvolucional.evaluate(xTest,yTest)"
   ]
  },
  {
   "cell_type": "markdown",
   "metadata": {},
   "source": [
    "<h3>Conclusión</h3>"
   ]
  },
  {
   "cell_type": "markdown",
   "metadata": {},
   "source": [
    "Luego de varios intentos, y diversas configuraciones, en el mejor de cada uno de los casos, prácticamente no hubo en los resultados obtenidos.\n",
    "\n",
    "En el perceptrón multicapa el resultado fue de un 87.7% de aciertos mientras que la red convolucional fue de un 87.8% de aciertos."
   ]
  }
 ],
 "metadata": {
  "kernelspec": {
   "display_name": "Python 3",
   "language": "python",
   "name": "python3"
  },
  "language_info": {
   "codemirror_mode": {
    "name": "ipython",
    "version": 3
   },
   "file_extension": ".py",
   "mimetype": "text/x-python",
   "name": "python",
   "nbconvert_exporter": "python",
   "pygments_lexer": "ipython3",
   "version": "3.7.4"
  }
 },
 "nbformat": 4,
 "nbformat_minor": 2
}
